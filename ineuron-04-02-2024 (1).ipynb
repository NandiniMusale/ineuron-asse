{
 "cells": [
  {
   "cell_type": "code",
   "execution_count": null,
   "id": "84a62b0b",
   "metadata": {},
   "outputs": [],
   "source": [
    "Write an efficient algorithm that searches for a value target in an m x n integer matrix. This matrix has the following properties:\n",
    "\n",
    "Integers in each row are sorted from right to left.\n",
    "\n",
    "The first integer of each row is greater than the last integer of the previous row.\n",
    "Example-: \n",
    "\n",
    "Input: matrix = [[1,3,5,7],[10,11,16,20],[23,30,34,60]], target = 3\n",
    "\n",
    "Output: True"
   ]
  },
  {
   "cell_type": "code",
   "execution_count": null,
   "id": "4eb7956c",
   "metadata": {},
   "outputs": [],
   "source": [
    "Answer"
   ]
  },
  {
   "cell_type": "code",
   "execution_count": 15,
   "id": "22b2dfe4",
   "metadata": {},
   "outputs": [
    {
     "name": "stdout",
     "output_type": "stream",
     "text": [
      "3\n",
      "0\n",
      "0 1 2\n",
      "3 4 5\n",
      "6 7 8\n",
      "True\n"
     ]
    }
   ],
   "source": [
    "n=int(input())\n",
    "target=int(input())\n",
    "l=[]\n",
    "for i in range(n):\n",
    "    l1=list(map(int,input().split()))\n",
    "    l.append(l1)\n",
    "def searchnumber(l,target):\n",
    "    def find(arr,target):\n",
    "        low=0\n",
    "        high=len(arr)-1\n",
    "        while(low<=high):\n",
    "            mid=(low+high)//2\n",
    "            if arr[mid][0]<=target and target<=arr[mid][-1]:\n",
    "                return arr[mid]\n",
    "            elif arr[mid][-1]<target:\n",
    "                low=mid+1\n",
    "            else:\n",
    "                high=mid-1\n",
    "        return arr[0]\n",
    "    k=find(l,target)\n",
    "    low=0\n",
    "    high=len(k)-1\n",
    "    while(low<=high):\n",
    "        mid=(low+high)//2\n",
    "        if k[mid]==target:\n",
    "            return True\n",
    "        elif k[mid]<target:\n",
    "            low=mid+1\n",
    "        else:\n",
    "            high=mid-1\n",
    "    return False\n",
    "k=searchnumber(l,target)\n",
    "print(k)\n",
    "\n",
    "    \n"
   ]
  },
  {
   "cell_type": "code",
   "execution_count": null,
   "id": "31d249fb",
   "metadata": {},
   "outputs": [],
   "source": [
    "Write a program that takes a string as input, and counts the frequency of each word in the string, there might  be repeated characters in the string. Your task is to find the highest frequency and returns the length of the  highest-frequency word. \n",
    "\n",
    "Note - You have to write at least 2 additional test cases in which your program will run successfully and provide  an explanation for the same.  \n",
    "\n",
    "Example input - string = “write write write all the number from from from 1 to 100” \n",
    "\n",
    "Example output - 5 \n",
    "\n",
    "Explanation - From the given string we can note that the most frequent words are “write” and “from” and  the maximum value of both the values is “write” and its corresponding length is 5 \n",
    "\n"
   ]
  },
  {
   "cell_type": "code",
   "execution_count": 17,
   "id": "57f4fa46",
   "metadata": {},
   "outputs": [],
   "source": [
    "Answer"
   ]
  },
  {
   "cell_type": "code",
   "execution_count": 15,
   "id": "663da047",
   "metadata": {},
   "outputs": [
    {
     "name": "stdout",
     "output_type": "stream",
     "text": [
      "datascience\n"
     ]
    }
   ],
   "source": [
    "def freq(str):\n",
    "    d={}\n",
    " \n",
    "    # break the string into list of words\n",
    "    str_list = str.split()\n",
    " \n",
    "    # gives set of unique words\n",
    "    unique_words = set(str_list)\n",
    "     \n",
    "    for words in unique_words :\n",
    "        d[words]=str_list.count(words)\n",
    "    return d\n",
    "s=\"write write write all the number from from from 1 to 100\"\n",
    "s1=\"datascience is one of the most trending tech to learn and datascience is one of the easy tech\"\n",
    "\n",
    "k=freq(s1)\n",
    "\n",
    "ans=[]\n",
    "maxele=max(k.values())\n",
    "for i in k:\n",
    "    if k[i]==maxele:\n",
    "        ans.append(i)\n",
    "m=\"\"\n",
    "for i in ans:\n",
    "    s=len(i)\n",
    "    if s>len(m):\n",
    "        m=i\n",
    "print(m)\n",
    "    \n"
   ]
  },
  {
   "cell_type": "code",
   "execution_count": null,
   "id": "42dd9a83",
   "metadata": {},
   "outputs": [],
   "source": [
    "test cases\n",
    "\n",
    "l=\"iam going to school and my school name is little roses and my school is in hyd city\"\n",
    "\n",
    "Here the most repeated and longest word is school\n",
    "\n",
    "l=\"datascience is one of the most trending tech to learn and datascience is one of the easy tech\"\n",
    "\n",
    "here ans is datascience(datascience,is,one of,tech have same frequency but the longest one is datascience)"
   ]
  },
  {
   "cell_type": "code",
   "execution_count": null,
   "id": "9428a7d1",
   "metadata": {},
   "outputs": [],
   "source": []
  }
 ],
 "metadata": {
  "kernelspec": {
   "display_name": "Python 3 (ipykernel)",
   "language": "python",
   "name": "python3"
  },
  "language_info": {
   "codemirror_mode": {
    "name": "ipython",
    "version": 3
   },
   "file_extension": ".py",
   "mimetype": "text/x-python",
   "name": "python",
   "nbconvert_exporter": "python",
   "pygments_lexer": "ipython3",
   "version": "3.10.9"
  }
 },
 "nbformat": 4,
 "nbformat_minor": 5
}
